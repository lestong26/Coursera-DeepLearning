{
 "cells": [
  {
   "cell_type": "markdown",
   "id": "9e557d54-e076-4304-81eb-5b451162f766",
   "metadata": {},
   "source": [
    "**Tips and Tricks**"
   ]
  },
  {
   "cell_type": "code",
   "execution_count": 2,
   "id": "c9245a07-3b72-47ff-9603-1327f89da765",
   "metadata": {},
   "outputs": [],
   "source": [
    "import numpy as np"
   ]
  },
  {
   "cell_type": "code",
   "execution_count": null,
   "id": "cba36bfd-b214-4272-9b08-6e41c8f0ba28",
   "metadata": {},
   "outputs": [],
   "source": [
    "a = np.random.randn(5) ## Rank 1 Array, Do not use this Rank 1 Array"
   ]
  },
  {
   "cell_type": "code",
   "execution_count": 11,
   "id": "54f8bddb-b1b8-4eab-86d0-1e11d8d7a89f",
   "metadata": {},
   "outputs": [
    {
     "data": {
      "text/plain": [
       "(5,)"
      ]
     },
     "execution_count": 11,
     "metadata": {},
     "output_type": "execute_result"
    }
   ],
   "source": [
    "a.shape ## Rank 1 Array, Do not use this Rank 1 Array"
   ]
  },
  {
   "cell_type": "code",
   "execution_count": 17,
   "id": "91b31b45-0338-453a-8912-510bfc77ebcb",
   "metadata": {},
   "outputs": [],
   "source": [
    "a = np.random.randn(5,1) # commit to making it either a column vector or a row vector\n",
    "# a = np.random.randn(1,5)"
   ]
  },
  {
   "cell_type": "code",
   "execution_count": 41,
   "id": "c2733823-ff18-4af9-bd81-f21c1e796aae",
   "metadata": {},
   "outputs": [],
   "source": [
    "a= a.reshape((1,5))"
   ]
  },
  {
   "cell_type": "code",
   "execution_count": 43,
   "id": "5b6f629c-d634-45b5-8a23-d70e9450e95b",
   "metadata": {},
   "outputs": [
    {
     "data": {
      "text/plain": [
       "(1, 5)"
      ]
     },
     "execution_count": 43,
     "metadata": {},
     "output_type": "execute_result"
    }
   ],
   "source": [
    "a.shape"
   ]
  },
  {
   "cell_type": "code",
   "execution_count": 45,
   "id": "97cbd242-d9b9-4636-8b2c-66c7729a2fc1",
   "metadata": {},
   "outputs": [
    {
     "ename": "AssertionError",
     "evalue": "",
     "output_type": "error",
     "traceback": [
      "\u001b[1;31m---------------------------------------------------------------------------\u001b[0m",
      "\u001b[1;31mAssertionError\u001b[0m                            Traceback (most recent call last)",
      "Cell \u001b[1;32mIn[45], line 1\u001b[0m\n\u001b[1;32m----> 1\u001b[0m \u001b[38;5;28;01massert\u001b[39;00m(a\u001b[38;5;241m.\u001b[39mshape\u001b[38;5;241m==\u001b[39m(\u001b[38;5;241m5\u001b[39m,\u001b[38;5;241m1\u001b[39m))\n",
      "\u001b[1;31mAssertionError\u001b[0m: "
     ]
    }
   ],
   "source": [
    "assert(a.shape==(5,1))"
   ]
  },
  {
   "cell_type": "code",
   "execution_count": 35,
   "id": "40c56fbf-d4d1-4b94-864f-430fc7e72b2f",
   "metadata": {},
   "outputs": [
    {
     "data": {
      "text/plain": [
       "(5, 1)"
      ]
     },
     "execution_count": 35,
     "metadata": {},
     "output_type": "execute_result"
    }
   ],
   "source": [
    "a.shape"
   ]
  },
  {
   "cell_type": "code",
   "execution_count": null,
   "id": "ae14300b-3aa1-470a-9224-a282c715bc96",
   "metadata": {},
   "outputs": [],
   "source": []
  },
  {
   "cell_type": "markdown",
   "id": "34fa0343-fcef-452c-96a4-d79657afa93b",
   "metadata": {},
   "source": [
    "**TRYING OUT THINGS**"
   ]
  },
  {
   "cell_type": "code",
   "execution_count": 10,
   "id": "16af2b3c-7bdc-44d1-97ee-f75f70319ea2",
   "metadata": {},
   "outputs": [],
   "source": [
    "a = np.random.randn(3,3)\n",
    "b = np.random.randn(3,1)\n",
    "\n",
    "c=a*b"
   ]
  },
  {
   "cell_type": "code",
   "execution_count": 12,
   "id": "301fab6b-3ba1-4ce3-9244-55ef8b5a3471",
   "metadata": {},
   "outputs": [
    {
     "name": "stdout",
     "output_type": "stream",
     "text": [
      "[[ 0.29071214 -0.53846929 -0.86779795]\n",
      " [-0.90400902 -0.3420271  -0.41051948]\n",
      " [-0.16475037  0.22455381  0.43708738]]\n"
     ]
    }
   ],
   "source": [
    "print(c)"
   ]
  },
  {
   "cell_type": "code",
   "execution_count": 6,
   "id": "42d6c228-4ef3-4aab-af5a-1775ff41b92d",
   "metadata": {},
   "outputs": [],
   "source": [
    "a = np.random.randn(12288,50)\n",
    "b = np.random.randn(150,45)"
   ]
  },
  {
   "cell_type": "code",
   "execution_count": 8,
   "id": "4198bd62-3e0b-4acc-b06b-c7402100a4fc",
   "metadata": {},
   "outputs": [
    {
     "ename": "ValueError",
     "evalue": "shapes (12288,50) and (150,45) not aligned: 50 (dim 1) != 150 (dim 0)",
     "output_type": "error",
     "traceback": [
      "\u001b[1;31m---------------------------------------------------------------------------\u001b[0m",
      "\u001b[1;31mValueError\u001b[0m                                Traceback (most recent call last)",
      "Cell \u001b[1;32mIn[8], line 1\u001b[0m\n\u001b[1;32m----> 1\u001b[0m c \u001b[38;5;241m=\u001b[39m \u001b[43mnp\u001b[49m\u001b[38;5;241;43m.\u001b[39;49m\u001b[43mdot\u001b[49m\u001b[43m(\u001b[49m\u001b[43ma\u001b[49m\u001b[43m,\u001b[49m\u001b[43mb\u001b[49m\u001b[43m)\u001b[49m\n",
      "File \u001b[1;32m<__array_function__ internals>:200\u001b[0m, in \u001b[0;36mdot\u001b[1;34m(*args, **kwargs)\u001b[0m\n",
      "\u001b[1;31mValueError\u001b[0m: shapes (12288,50) and (150,45) not aligned: 50 (dim 1) != 150 (dim 0)"
     ]
    }
   ],
   "source": [
    "c = np.dot(a,b)"
   ]
  }
 ],
 "metadata": {
  "kernelspec": {
   "display_name": "Python 3 (ipykernel)",
   "language": "python",
   "name": "python3"
  },
  "language_info": {
   "codemirror_mode": {
    "name": "ipython",
    "version": 3
   },
   "file_extension": ".py",
   "mimetype": "text/x-python",
   "name": "python",
   "nbconvert_exporter": "python",
   "pygments_lexer": "ipython3",
   "version": "3.11.7"
  }
 },
 "nbformat": 4,
 "nbformat_minor": 5
}
